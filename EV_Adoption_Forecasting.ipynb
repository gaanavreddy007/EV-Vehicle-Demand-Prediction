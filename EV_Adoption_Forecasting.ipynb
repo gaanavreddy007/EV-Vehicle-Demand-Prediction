{
  "cells": [
    {
      "cell_type": "markdown",
      "metadata": {},
      "source": [
        "### Convert Number Columns to Numeric and Feature Engineering"
      ]
    },
    {
      "cell_type": "code",
      "execution_count": 11,
      "metadata": {},
      "outputs": [],
      "source": [
        "# Convert relevant columns to numeric, removing commas if present\n",
        "cols_to_numeric = [\n",
        "    'Battery Electric Vehicles (BEVs)',\n",
        "    'Plug-In Hybrid Electric Vehicles (PHEVs)',\n",
        "    'Electric Vehicle (EV) Total',\n",
        "    'Non-Electric Vehicle Total',\n",
        "    'Total Vehicles'\n",
        "]\n",
        "for col in cols_to_numeric:\n",
        "    df[col] = pd.to_numeric(df[col].astype(str).str.replace(',', ''), errors='coerce')\n",
        "    df[col] = df[col].fillna(0)\n",
        "\n",
        "# Add Year and Month columns\n",
        "df['Year'] = df['Date'].dt.year\n",
        "df['Month'] = df['Date'].dt.month"
      ]
    },
    {
      "cell_type": "markdown",
      "metadata": {},
      "source": [
        "### Quick EDA: Distribution and Trend Plots"
      ]
    },
    {
      "cell_type": "code",
      "execution_count": 12,
      "metadata": {},
      "outputs": [],
      "source": [
        "# Distribution of percent EVs\n",
        "sns.histplot(df['Percent Electric Vehicles'], bins=40)\n",
        "plt.title('Distribution: Percent Electric Vehicles')\n",
        "plt.show()\n",
        "\n",
        "# EV growth trend (sampled for large datasets)\n",
        "sample_df = df.sample(n=1000, random_state=42) if len(df) > 1000 else df\n",
        "sns.lineplot(x='Date', y='Electric Vehicle (EV) Total', data=sample_df)\n",
        "plt.title('EV Total Over Time (sample)')\n",
        "plt.tight_layout()\n",
        "plt.show()"
      ]
    },
    {
      "cell_type": "markdown",
      "metadata": {},
      "source": [
        "### Encode Categorical Columns"
      ]
    },
    {
      "cell_type": "code",
      "execution_count": 13,
      "metadata": {},
      "outputs": [],
      "source": [
        "for col in ['County', 'State', 'Vehicle Primary Use']:\n",
        "    le = LabelEncoder()\n",
        "    df[col] = le.fit_transform(df[col])"
      ]
    },
    {
      "cell_type": "markdown",
      "metadata": {},
      "source": [
        "### Prepare Features and Target"
      ]
    },
    {
      "cell_type": "code",
      "execution_count": 14,
      "metadata": {},
      "outputs": [],
      "source": [
        "features = [\n",
        "    'Year', 'Month', 'County', 'State', 'Vehicle Primary Use',\n",
        "    'Battery Electric Vehicles (BEVs)',\n",
        "    'Plug-In Hybrid Electric Vehicles (PHEVs)',\n",
        "    'Non-Electric Vehicle Total', 'Total Vehicles', 'Percent Electric Vehicles'\n",
        "]\n",
        "target = 'Electric Vehicle (EV) Total'\n",
        "\n",
        "X = df[features]\n",
        "y = df[target]"
      ]
    },
    {
      "cell_type": "markdown",
      "metadata": {},
      "source": [
        "### Train-Test Split"
      ]
    },
    {
      "cell_type": "code",
      "execution_count": 15,
      "metadata": {},
      "outputs": [],
      "source": [
        "X_train, X_test, y_train, y_test = train_test_split(X, y, test_size=0.2, random_state=42)"
      ]
    },
    {
      "cell_type": "markdown",
      "metadata": {},
      "source": [
        "### Model Training with RandomForest and Hyperparameter Search (Optimized)"
      ]
    },
    {
      "cell_type": "code",
      "execution_count": 16,
      "metadata": {},
      "outputs": [],
      "source": [
        "# Set up a smaller grid for speed\n",
        "rf = RandomForestRegressor(random_state=42)\n",
        "param_grid = {\n",
        "    'n_estimators': [25, 50, 100],\n",
        "    'max_depth': [5, 10, 20]\n",
        "}\n",
        "search = RandomizedSearchCV(rf, param_grid, cv=3, n_jobs=-1, random_state=42)\n",
        "search.fit(X_train, y_train)\n",
        "best_rf = search.best_estimator_"
      ]
    },
    {
      "cell_type": "markdown",
      "metadata": {},
      "source": [
        "### Model Evaluation & Visualization"
      ]
    },
    {
      "cell_type": "code",
      "execution_count": 17,
      "metadata": {},
      "outputs": [],
      "source": [
        "y_pred = best_rf.predict(X_test)\n",
        "print(f\"MAE: {mean_absolute_error(y_test, y_pred):.2f}\")\n",
        "print(f\"MSE: {mean_squared_error(y_test, y_pred):.2f}\")\n",
        "print(f\"R2:  {r2_score(y_test, y_pred):.3f}\")\n",
        "\n",
        "# Scatter plot of actual vs predicted\n",
        "sns.scatterplot(x=y_test, y=y_pred)\n",
        "plt.xlabel('Actual EV Total')\n",
        "plt.ylabel('Predicted EV Total')\n",
        "plt.title('Actual vs Predicted EV Total (Test set)')\n",
        "plt.show()"
      ]
    },
    {
      "cell_type": "markdown",
      "metadata": {},
      "source": [
        "### Save the Model (Optional)"
      ]
    },
    {
      "cell_type": "code",
      "execution_count": 18,
      "metadata": {},
      "outputs": [],
      "source": [
        "# Save the trained random forest model for later use\n",
        "joblib.dump(best_rf, 'ev_adoption_rf_model.joblib')"
      ]
    },
    {
      "cell_type": "markdown",
      "metadata": {},
      "source": [
        "### Conclusion\n",
        "\n",
        "- Numeric columns were converted with outlier handling, features were engineered for modeling.\n",
        "- Optimized hyperparameter search finds the best RandomForest.\n",
        "- Metrics are reported and predictions visualized to assess performance.\n",
        "- Save the model and code to GitHub for submission and reuse. \n"
      ]
    }
  ],
  "metadata": {
    "kernelspec": {
      "display_name": "Python 3",
      "name": "python3"
    },
    "language_info": {
      "name": "python",
      "version": "3.12.8"
    }
  },
  "nbformat": 4,
  "nbformat_minor": 0
}
