{
  "cells": [
    {
      "cell_type": "markdown",
      "metadata": {},
      "source": [
        "## EV Adoption Forecasting\n",
        "As electric vehicle (EV) adoption surges, urban planners need to anticipate infrastructure needs—especially charging stations. Inadequate planning can lead to bottlenecks, impacting user satisfaction and hindering sustainability goals.\n",
        "\n",
        "**Problem Statement:** Using the electric vehicle dataset (which includes information on EV populations, vehicle types, and possibly historical charging usage), create a model to forecast future EV adoption. For example, predict the number of electric vehicles in upcoming years based on the trends in the data.\n",
        "\n",
        "**Goal:** Build a regression model that forecasts future EV adoption demand based on historical trends in EV growth, types of vehicles, and regional data.\n",
        "\n",
        "**Dataset:** This dataset shows the number of vehicles that were registered by Washington State Department of Licensing (DOL) each month. The data is separated by county for passenger vehicles and trucks.\n",
        "\n",
        "-- Date: Registration date (end of each month) from 2017-01-31 to 2024-02-29\n",
        "-- County: Geographic region of the state where the owner resides\n",
        "-- State: State associated with the vehicle record\n",
        "-- Vehicle Primary Use: Main use of the vehicle (Passenger/Truck)\n",
        "-- Battery Electric Vehicles (BEVs): Count of vehicles that run solely on battery\n",
        "-- Plug-In Hybrid Electric Vehicles (PHEVs): Count of hybrid vehicles\n",
        "-- Electric Vehicle (EV) Total: Sum of BEVs and PHEVs\n",
        "-- Non-Electric Vehicle Total: Count of conventional vehicles\n",
        "-- Total Vehicles: All registered vehicles in the county\n",
        "-- Percent Electric Vehicles: Percentage of vehicles that are electric\n",
        "\n",
        "**Dataset Link:** https://www.kaggle.com/datasets/sahirmaharajj/electric-vehicle-population-size-2024/data"
      ]
    },
    {
      "cell_type": "markdown",
      "metadata": {},
      "source": [
        "### Import Required Libraries"
      ]
    },
    {
      "cell_type": "code",
      "execution_count": 1,
      "metadata": {},
      "outputs": [],
      "source": [
        "import numpy as np\n",
        "import pandas as pd\n",
        "import seaborn as sns\n",
        "import matplotlib.pyplot as plt\n",
        "from sklearn.preprocessing import LabelEncoder\n",
        "from sklearn.ensemble import RandomForestRegressor\n",
        "from sklearn.model_selection import train_test_split, RandomizedSearchCV\n",
        "from sklearn.metrics import mean_absolute_error, mean_squared_error, r2_score"
      ]
    },
    {
      "cell_type": "markdown",
      "metadata": {},
      "source": [
        "### Load Dataset"
      ]
    },
    {
      "cell_type": "code",
      "execution_count": 2,
      "metadata": {},
      "outputs": [],
      "source": [
        "# Load data\n",
        "df = pd.read_csv(\"Electric_Vehicle_Population_By_County.csv\")"
      ]
    },
    {
      "cell_type": "markdown",
      "metadata": {},
      "source": [
        "### Explore and Understand the Data"
      ]
    },
    {
      "cell_type": "code",
      "execution_count": 3,
      "metadata": {},
      "outputs": [],
      "source": [
        "display(df.head())\n",
        "print(df.shape)\n",
        "df.info()\n",
        "print(\"\\nMissing values per column:\\n\", df.isnull().sum())"
      ]
    },
    {
      "cell_type": "markdown",
      "metadata": {},
      "source": [
        "### Check Outliers in 'Percent Electric Vehicles'"
      ]
    },
    {
      "cell_type": "code",
      "execution_count": 4,
      "metadata": {},
      "outputs": [],
      "source": [
        "Q1 = df['Percent Electric Vehicles'].quantile(0.25)\n",
        "Q3 = df['Percent Electric Vehicles'].quantile(0.75)\n",
        "IQR = Q3 - Q1\n",
        "lower_bound = Q1 - 1.5 * IQR\n",
        "upper_bound = Q3 + 1.5 * IQR\n",
        "outliers = df[(df['Percent Electric Vehicles'] < lower_bound) | (df['Percent Electric Vehicles'] > upper_bound)]\n",
        "print(f\"{outliers.shape[0]} outlier rows in 'Percent Electric Vehicles'.\")"
      ]
    },
    {
      "cell_type": "markdown",
      "metadata": {},
      "source": [
        "### Data Preprocessing: Date, Nulls, Outlier Capping"
      ]
    },
    {
      "cell_type": "code",
      "execution_count": 5,
      "metadata": {},
      "outputs": [],
      "source": [
        "df['Date'] = pd.to_datetime(df['Date'], errors='coerce')\n",
        "df = df[df['Date'].notnull()]\n",
        "df = df[df['Electric Vehicle (EV) Total'].notnull()]\n",
        "df['County'] = df['County'].fillna('Unknown')\n",
        "df['State'] = df['State'].fillna('Unknown')\n",
        "# Cap percent EV outliers\n",
        "df['Percent Electric Vehicles'] = np.where(\n",
        "    df['Percent Electric Vehicles'] > upper_bound, upper_bound,\n",
        "    np.where(df['Percent Electric Vehicles'] < lower_bound, lower_bound, df['Percent Electric Vehicles'])\n",
        ")"
      ]
    },
    {
      "cell_type": "markdown",
      "metadata": {},
      "source": [
        "### Convert Number Columns to Numeric and Feature Engineering"
      ]
    },
    {
      "cell_type": "code",
      "execution_count": 6,
      "metadata": {},
      "outputs": [],
      "source": [
        "cols_to_numeric = [\n",
        "    'Battery Electric Vehicles (BEVs)',\n",
        "    'Plug-In Hybrid Electric Vehicles (PHEVs)',\n",
        "    'Electric Vehicle (EV) Total',\n",
        "    'Non-Electric Vehicle Total',\n",
        "    'Total Vehicles'\n",
        "]\n",
        "for col in cols_to_numeric:\n",
        "    df.loc[:, col] = pd.to_numeric(\n",
        "        df[col].astype(str).str.replace(',', '', regex=False), errors='coerce')\n",
        "    df.loc[:, col] = df[col].fillna(0)\n",
        "df['Year'] = df['Date'].dt.year\n",
        "df['Month'] = df['Date'].dt.month"
      ]
    },
    {
      "cell_type": "markdown",
      "metadata": {},
      "source": [
        "### Quick EDA: Distribution and Trend Plots"
      ]
    },
    {
      "cell_type": "code",
      "execution_count": 7,
      "metadata": {},
      "outputs": [],
      "source": [
        "sns.histplot(df['Percent Electric Vehicles'], bins=40)\n",
        "plt.title('Distribution: Percent Electric Vehicles')\n",
        "plt.show()\n",
        "sample_df = df.sample(n=1000, random_state=42) if len(df) > 1000 else df\n",
        "sns.lineplot(x='Date', y='Electric Vehicle (EV) Total', data=sample_df)\n",
        "plt.title('EV Total Over Time (sample)')\n",
        "plt.tight_layout()\n",
        "plt.show()"
      ]
    },
    {
      "cell_type": "markdown",
      "metadata": {},
      "source": [
        "### Encode Categorical Columns"
      ]
    },
    {
      "cell_type": "code",
      "execution_count": 8,
      "metadata": {},
      "outputs": [],
      "source": [
        "for col in ['County', 'State', 'Vehicle Primary Use']:\n",
        "    le = LabelEncoder()\n",
        "    df.loc[:, col] = le.fit_transform(df[col].astype(str))"
      ]
    },
    {
      "cell_type": "markdown",
      "metadata": {},
      "source": [
        "### Prepare Features and Target"
      ]
    },
    {
      "cell_type": "code",
      "execution_count": 9,
      "metadata": {},
      "outputs": [],
      "source": [
        "features = [\n",
        "    'Year', 'Month', 'County', 'State', 'Vehicle Primary Use',\n",
        "    'Battery Electric Vehicles (BEVs)',\n",
        "    'Plug-In Hybrid Electric Vehicles (PHEVs)',\n",
        "    'Non-Electric Vehicle Total', 'Total Vehicles', 'Percent Electric Vehicles'\n",
        "]\n",
        "target = 'Electric Vehicle (EV) Total'\n",
        "X = df[features]\n",
        "y = df[target]"
      ]
    },
    {
      "cell_type": "markdown",
      "metadata": {},
      "source": [
        "### Train-Test Split"
      ]
    },
    {
      "cell_type": "code",
      "execution_count": 10,
      "metadata": {},
      "outputs": [],
      "source": [
        "X_train, X_test, y_train, y_test = train_test_split(\n",
        "    X, y, test_size=0.2, random_state=42)"
      ]
    },
    {
      "cell_type": "markdown",
      "metadata": {},
      "source": [
        "### Model Training with RandomForest and Hyperparameter Search (Optimized)"
      ]
    },
    {
      "cell_type": "code",
      "execution_count": 11,
      "metadata": {},
      "outputs": [],
      "source": [
        "rf = RandomForestRegressor(random_state=42)\n",
        "param_grid = {\n",
        "    'n_estimators': [25, 50, 100],\n",
        "    'max_depth': [5, 10, 20]\n",
        "}\n",
        "search = RandomizedSearchCV(rf, param_grid, cv=3, n_jobs=-1, random_state=42)\n",
        "search.fit(X_train, y_train)\n",
        "best_rf = search.best_estimator_"
      ]
    },
    {
      "cell_type": "markdown",
      "metadata": {},
      "source": [
        "### Model Evaluation & Visualization"
      ]
    },
    {
      "cell_type": "code",
      "execution_count": 12,
      "metadata": {},
      "outputs": [],
      "source": [
        "y_pred = best_rf.predict(X_test)\n",
        "print(f\"MAE: {mean_absolute_error(y_test, y_pred):.2f}\")\n",
        "print(f\"MSE: {mean_squared_error(y_test, y_pred):.2f}\")\n",
        "print(f\"R2:  {r2_score(y_test, y_pred):.3f}\")\n",
        "sns.scatterplot(x=y_test, y=y_pred)\n",
        "plt.xlabel('Actual EV Total')\n",
        "plt.ylabel('Predicted EV Total')\n",
        "plt.title('Actual vs Predicted EV Total (Test set)')\n",
        "plt.show()"
      ]
    },
    {
      "cell_type": "markdown",
      "metadata": {},
      "source": [
        "### Conclusion\n",
        "- Numeric columns were converted with outlier handling, features were engineered for modeling.\n",
        "- Optimized hyperparameter search finds the best RandomForest.\n",
        "- Metrics are reported and predictions visualized to assess performance.\n"
      ]
    }
  ],
  "metadata": {
    "kernelspec": {
      "display_name": "Python 3",
      "name": "python3"
    },
    "language_info": {
      "name": "python",
      "version": "3.12.8"
    }
  },
  "nbformat": 4,
  "nbformat_minor": 0
}
